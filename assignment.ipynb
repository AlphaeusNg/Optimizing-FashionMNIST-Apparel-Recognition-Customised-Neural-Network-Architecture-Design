{
 "cells": [
  {
   "cell_type": "markdown",
   "source": [
    "# Fashion MNIST dataset"
   ],
   "metadata": {
    "collapsed": false,
    "pycharm": {
     "name": "#%% md\n"
    }
   }
  },
  {
   "cell_type": "markdown",
   "source": [
    "### Details of the dataset:\n",
    "\n",
    "Fashion MNIST is a relatively simple dataset compared to more challenging computer vision tasks like ImageNet. Since it consists of grayscale images of fashion items, you don't need a very deep or complex pretrained model. A pretrained model with a moderate number of parameters is typically sufficient for this task."
   ],
   "metadata": {
    "collapsed": false,
    "pycharm": {
     "name": "#%% md\n"
    }
   }
  },
  {
   "cell_type": "code",
   "execution_count": null,
   "outputs": [],
   "source": [
    "# Load data\n",
    "\n",
    "\n"
   ],
   "metadata": {
    "collapsed": false,
    "pycharm": {
     "name": "#%%\n"
    }
   }
  },
  {
   "cell_type": "markdown",
   "source": [
    "### Details of pre-trained models:\n",
    "\n",
    "#### MobileNet\n",
    "\n",
    "**Pros:**\n",
    "- MobileNet is designed for mobile and embedded vision applications, making it computationally efficient.\n",
    "- It uses depthwise separable convolutions to reduce the number of parameters, making it well-suited for small to\n",
    "moderately sized datasets.\n",
    "- MobileNet is lightweight and offers a good balance between model size and accuracy.\n",
    "\n",
    "Why it's a good fit for Fashion MNIST: Fashion MNIST is not an extremely complex dataset, and a model like MobileNet\n",
    "can provide a good level of accuracy without overburdening computational resources.\n",
    "\n",
    "#### ShuffleNet\n",
    "\n",
    "**Pros:**\n",
    "- ShuffleNet employs pointwise group convolutions to reduce computational cost, making it suitable for\n",
    "resource-constrained environments.\n",
    "- It's known for its computational efficiency while providing reasonable accuracy.\n",
    "\n",
    "Why it's a good fit for Fashion MNIST: Fashion MNIST doesn't require the complexity of larger models, and\n",
    "ShuffleNet's efficiency can handle the task effectively.\n",
    "\n",
    "\n",
    "**Cons for both models**\n",
    "It may not be as accurate as larger models like ResNet or VGG, making it more suitable for\n",
    "resource-constrained environments."
   ],
   "metadata": {
    "collapsed": false,
    "pycharm": {
     "name": "#%% md\n"
    }
   }
  },
  {
   "cell_type": "markdown",
   "source": [],
   "metadata": {
    "collapsed": false,
    "pycharm": {
     "name": "#%% md\n"
    }
   }
  },
  {
   "cell_type": "code",
   "execution_count": null,
   "outputs": [],
   "source": [
    "# Load models\n",
    "\n",
    "\n",
    "\n"
   ],
   "metadata": {
    "collapsed": false,
    "pycharm": {
     "name": "#%%\n",
     "is_executing": true
    }
   }
  },
  {
   "cell_type": "code",
   "execution_count": null,
   "outputs": [],
   "source": [],
   "metadata": {
    "collapsed": false,
    "pycharm": {
     "name": "#%%\n"
    }
   }
  }
 ],
 "metadata": {
  "kernelspec": {
   "display_name": "Python 3",
   "language": "python",
   "name": "python3"
  },
  "language_info": {
   "codemirror_mode": {
    "name": "ipython",
    "version": 2
   },
   "file_extension": ".py",
   "mimetype": "text/x-python",
   "name": "python",
   "nbconvert_exporter": "python",
   "pygments_lexer": "ipython2",
   "version": "2.7.6"
  }
 },
 "nbformat": 4,
 "nbformat_minor": 0
}